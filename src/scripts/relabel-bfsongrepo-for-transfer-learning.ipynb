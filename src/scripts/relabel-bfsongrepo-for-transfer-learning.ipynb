{
 "cells": [
  {
   "cell_type": "code",
   "execution_count": 2,
   "id": "835b69c0-90c0-4598-81a1-c2563ca49420",
   "metadata": {},
   "outputs": [
    {
     "name": "stdout",
     "output_type": "stream",
     "text": [
      "/home/ildefonso/Documents/data/vocal/bfsongrepo\n"
     ]
    }
   ],
   "source": [
    "cd /home/ildefonso/Documents/data/vocal/bfsongrepo"
   ]
  },
  {
   "cell_type": "code",
   "execution_count": 2,
   "id": "f19d1201-256f-4eaf-b586-a9af01d4b517",
   "metadata": {},
   "outputs": [],
   "source": [
    "import pathlib\n",
    "\n",
    "import crowsetta"
   ]
  },
  {
   "cell_type": "code",
   "execution_count": 3,
   "id": "d9078ff1-20fb-4759-a33e-237fda30ed5b",
   "metadata": {},
   "outputs": [],
   "source": [
    "labelsets = {\n",
    "    'gy6or6': list(\"iabcdefghjk\"),\n",
    "    'bl26lb16': list(\"iabcdef\"),\n",
    "    'gr41rd51': list(\"iabcdefgjkm\"),\n",
    "    'or60yw70': list(\"iabcdefg\"),\n",
    "}"
   ]
  },
  {
   "cell_type": "code",
   "execution_count": 19,
   "id": "e2d53deb-e7c5-43b2-9959-2ac69ac93690",
   "metadata": {},
   "outputs": [],
   "source": [
    "ctr = 0\n",
    "new_labelsets = {}\n",
    "for bird_id, labelset in labelsets.items():\n",
    "    new_labelset = [str(int_lbl) for int_lbl in range(ctr, ctr + len(labelset))]\n",
    "    assert len(new_labelset) == len(labelset)\n",
    "    new_labelsets[bird_id] = new_labelset\n",
    "    ctr += len(labelset)"
   ]
  },
  {
   "cell_type": "code",
   "execution_count": 20,
   "id": "c22b89c7-7bfe-4ec7-b5ba-e43fc385928d",
   "metadata": {},
   "outputs": [
    {
     "data": {
      "text/plain": [
       "{'gy6or6': ['0', '1', '2', '3', '4', '5', '6', '7', '8', '9', '10'],\n",
       " 'bl26lb16': ['11', '12', '13', '14', '15', '16', '17'],\n",
       " 'gr41rd51': ['18',\n",
       "  '19',\n",
       "  '20',\n",
       "  '21',\n",
       "  '22',\n",
       "  '23',\n",
       "  '24',\n",
       "  '25',\n",
       "  '26',\n",
       "  '27',\n",
       "  '28'],\n",
       " 'or60yw70': ['29', '30', '31', '32', '33', '34', '35', '36']}"
      ]
     },
     "execution_count": 20,
     "metadata": {},
     "output_type": "execute_result"
    }
   ],
   "source": [
    "new_labelsets"
   ]
  },
  {
   "cell_type": "code",
   "execution_count": 6,
   "id": "47dfc3b8-96e6-4469-a730-bed0f95ed480",
   "metadata": {},
   "outputs": [],
   "source": [
    "data_dir = pathlib.Path(\n",
    "    '/home/ildefonso/Documents/data/vocal/bfsongrepo/transfer-learning/'\n",
    ")"
   ]
  },
  {
   "cell_type": "code",
   "execution_count": 31,
   "id": "e890a76a-756e-466f-bf89-af3984974b6d",
   "metadata": {},
   "outputs": [
    {
     "name": "stdout",
     "output_type": "stream",
     "text": [
      "{'i': '0', 'a': '1', 'b': '2', 'c': '3', 'd': '4', 'e': '5', 'f': '6', 'g': '7', 'h': '8', 'j': '9', 'k': '10'}\n",
      "relabeling 230 annotations\n",
      "{'i': '11', 'a': '12', 'b': '13', 'c': '14', 'd': '15', 'e': '16', 'f': '17'}\n",
      "relabeling 170 annotations\n",
      "{'i': '18', 'a': '19', 'b': '20', 'c': '21', 'd': '22', 'e': '23', 'f': '24', 'g': '25', 'j': '26', 'k': '27', 'm': '28'}\n",
      "relabeling 196 annotations\n",
      "{'i': '29', 'a': '30', 'b': '31', 'c': '32', 'd': '33', 'e': '34', 'f': '35', 'g': '36'}\n",
      "relabeling 169 annotations\n"
     ]
    }
   ],
   "source": [
    "scribe = crowsetta.Transcriber(format='simple-seq')\n",
    "\n",
    "for bird_id, labelset in labelsets.items():\n",
    "    new_labelset = new_labelsets[bird_id]\n",
    "    labelmap = dict(zip(labelset, new_labelset))\n",
    "\n",
    "    print(labelmap)\n",
    "    \n",
    "    bird_csvs = sorted(data_dir.glob(f'{bird_id}*.cbin.csv'))\n",
    "    simple_seqs = [scribe.from_file(bird_csv) for bird_csv in bird_csvs]\n",
    "\n",
    "    print(f'relabeling {len(simple_seqs)} annotations')\n",
    "    for simple_seq in simple_seqs:\n",
    "        simple_seq.labels = [labelmap[label] if label in labelmap else label\n",
    "                             for label in simple_seq.labels.tolist()]\n",
    "        simple_seq.to_file(simple_seq.annot_path)"
   ]
  },
  {
   "cell_type": "code",
   "execution_count": 32,
   "id": "80f66603-ef3e-4cd5-af50-f7cd3e43e815",
   "metadata": {},
   "outputs": [],
   "source": [
    "to_delete = []\n",
    "\n",
    "for bird_id in labelsets.keys():\n",
    "    bird_wavs = sorted(data_dir.glob(f'{bird_id}*.wav'))\n",
    "    assert len(bird_wavs) > 0\n",
    "    for bird_wav in bird_wavs:\n",
    "        if not (bird_wav.parent / (bird_wav.name + '.csv')).exists():\n",
    "            to_delete.append(bird_wav)"
   ]
  },
  {
   "cell_type": "code",
   "execution_count": 34,
   "id": "70310cf0-5d67-4c7b-8f0f-b6c836c93676",
   "metadata": {},
   "outputs": [],
   "source": [
    "import shutil"
   ]
  },
  {
   "cell_type": "code",
   "execution_count": 36,
   "id": "05ae7028-780d-4804-8ff0-ebaf6ca0fbd2",
   "metadata": {},
   "outputs": [],
   "source": [
    "for delete_path in to_delete:\n",
    "    delete_path.unlink()"
   ]
  }
 ],
 "metadata": {
  "kernelspec": {
   "display_name": "Python 3 (ipykernel)",
   "language": "python",
   "name": "python3"
  },
  "language_info": {
   "codemirror_mode": {
    "name": "ipython",
    "version": 3
   },
   "file_extension": ".py",
   "mimetype": "text/x-python",
   "name": "python",
   "nbconvert_exporter": "python",
   "pygments_lexer": "ipython3",
   "version": "3.10.11"
  }
 },
 "nbformat": 4,
 "nbformat_minor": 5
}
