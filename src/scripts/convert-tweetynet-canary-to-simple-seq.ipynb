{
 "cells": [
  {
   "cell_type": "code",
   "execution_count": 7,
   "id": "7f6be2b8-d2d1-441c-8e56-6d29b85dd6dc",
   "metadata": {},
   "outputs": [],
   "source": [
    "import pathlib\n",
    "\n",
    "import crowsetta\n",
    "import numpy as np\n",
    "import pandas as pd"
   ]
  },
  {
   "cell_type": "code",
   "execution_count": 2,
   "id": "f8b763cc-2f9c-4b79-a677-13bc10bad293",
   "metadata": {},
   "outputs": [
    {
     "name": "stdout",
     "output_type": "stream",
     "text": [
      "/home/ildefonso/Documents/data/vocal/tweetynet-canary-dataset\n"
     ]
    }
   ],
   "source": [
    "cd ~/Documents/data/vocal/tweetynet-canary-dataset"
   ]
  },
  {
   "cell_type": "code",
   "execution_count": 3,
   "id": "61716b11-ace6-4277-8095-6af6a4931e84",
   "metadata": {},
   "outputs": [
    {
     "name": "stdout",
     "output_type": "stream",
     "text": [
      "\u001b[0m\u001b[01;31mdoi_10.5061_dryad.xgxd254f4__v8.zip\u001b[0m  \u001b[01;31mllb16_data_matrices.zip\u001b[0m\n",
      "\u001b[01;34mfrom-dropbox\u001b[0m/                        \u001b[01;31mllb16_data.zip\u001b[0m\n",
      "\u001b[01;34mllb11_data\u001b[0m/                          \u001b[01;34mllb3_data\u001b[0m/\n",
      "\u001b[01;34mllb11_data_matrices\u001b[0m/                 \u001b[01;34mllb3_data_matrices\u001b[0m/\n",
      "\u001b[01;31mllb11_data_matrices.zip\u001b[0m              \u001b[01;31mllb3_data_matrices.zip\u001b[0m\n",
      "\u001b[01;31mllb11_data.zip\u001b[0m                       \u001b[01;31mllb3_data.zip\u001b[0m\n",
      "\u001b[01;34mllb16_data\u001b[0m/                          README.txt\n",
      "\u001b[01;34mllb16_data_matrices\u001b[0m/\n"
     ]
    }
   ],
   "source": [
    "ls"
   ]
  },
  {
   "cell_type": "code",
   "execution_count": 5,
   "id": "ac1ce5fe-f395-43df-95d4-78d388a984bb",
   "metadata": {},
   "outputs": [],
   "source": [
    "BIRD_IDS = [\n",
    "    'llb3',\n",
    "    'llb11',\n",
    "    'llb16',\n",
    "]"
   ]
  },
  {
   "cell_type": "markdown",
   "id": "a553d4c7-f1d7-4d4b-ad74-06845271adf5",
   "metadata": {},
   "source": [
    "Fix annotation files to be in current crowsetta format"
   ]
  },
  {
   "cell_type": "code",
   "execution_count": 19,
   "id": "28b05837-ef46-433d-90f9-3b759f72a095",
   "metadata": {},
   "outputs": [],
   "source": [
    "scribe = crowsetta.Transcriber(format='generic-seq')\n",
    "\n",
    "root = pathlib.Path('~/Documents/data/vocal/tweetynet-canary-dataset').expanduser()\n",
    "\n",
    "for bird_id in BIRD_IDS:\n",
    "    wav_root = root / f'{bird_id}_data/{bird_id}_songs'  # destination for csv annotations\n",
    "    annot_file = root / f'{bird_id}_data/{bird_id}_annot.csv'\n",
    "    assert wav_root.exists()\n",
    "    df = pd.read_csv(annot_file)\n",
    "    # fix column names\n",
    "    df = df.rename(columns={\"onset_Hz\": \"onset_sample\", \"offset_Hz\": \"offset_sample\", \"audio_file\": \"notated_path\", \"annot_file\": \"annot_path\"})\n",
    "    df = crowsetta.formats.seq.generic.GenericSeqSchema(df)  # if this errors, we didn't fix names right\n",
    "    df.to_csv(annot_file, index=False)\n",
    "    # generic_seq = scribe.from_file(annot_file)\n",
    "    # for annot in generic_seq.annots:\n",
    "    #     simple_seq = crowsetta.formats.seq.SimpleSeq(onsets_s=annot.onsets_s, offsets_s=annot.offsets_s, \n",
    "    #                                                  labels=annot.labels, annot_path=audio_path)\n",
    "    #     simple_seq.to_file(annot_path=dst / f'{filenum}.wav.csv')"
   ]
  },
  {
   "cell_type": "code",
   "execution_count": 29,
   "id": "759c4a8d-021f-43f9-82e4-545d4ee0422c",
   "metadata": {},
   "outputs": [],
   "source": [
    "scribe = crowsetta.Transcriber(format='generic-seq')\n",
    "\n",
    "root = pathlib.Path('~/Documents/data/vocal/tweetynet-canary-dataset').expanduser()\n",
    "\n",
    "for bird_id in BIRD_IDS:\n",
    "    wav_root = root / f'{bird_id}_data/{bird_id}_songs'  # destination for csv annotations\n",
    "    annot_file = root / f'{bird_id}_data/{bird_id}_annot.csv'\n",
    "    assert wav_root.exists()\n",
    "    generic_seq = scribe.from_file(annot_file)\n",
    "    for annot in generic_seq.annots:\n",
    "        simple_seq = crowsetta.formats.seq.SimpleSeq(onsets_s=annot.seq.onsets_s, offsets_s=annot.seq.offsets_s, \n",
    "                                                     labels=annot.seq.labels, annot_path=annot.notated_path)\n",
    "        simple_seq.to_file(annot_path=wav_root / f'{annot.notated_path.name}.csv')"
   ]
  },
  {
   "cell_type": "code",
   "execution_count": 31,
   "id": "4af1a7de-2885-4be1-9e10-d569e473019a",
   "metadata": {},
   "outputs": [
    {
     "name": "stdout",
     "output_type": "stream",
     "text": [
      "sorting:  llb3\n",
      "sorting:  llb11\n",
      "sorting:  llb16\n"
     ]
    }
   ],
   "source": [
    "import shutil\n",
    "\n",
    "for bird_id in BIRD_IDS:\n",
    "    print('sorting: ', bird_id)\n",
    "    wav_root = root / f'{bird_id}_data/{bird_id}_songs'  # destination for csv annotations\n",
    "    no_annot_dir = wav_root / 'no_annot'\n",
    "    no_annot_dir.mkdir(exist_ok=True)\n",
    "    \n",
    "    wavs = sorted(wav_root.glob('*.wav'))\n",
    "    for wav in wavs:\n",
    "        if not (wav.parent / (wav.name + '.csv')).exists():\n",
    "            shutil.move(wav, no_annot_dir)"
   ]
  },
  {
   "cell_type": "code",
   "execution_count": null,
   "id": "42bbafa8-b2ac-4d4d-aa89-af7fce2ef995",
   "metadata": {},
   "outputs": [],
   "source": []
  }
 ],
 "metadata": {
  "kernelspec": {
   "display_name": "Python 3 (ipykernel)",
   "language": "python",
   "name": "python3"
  },
  "language_info": {
   "codemirror_mode": {
    "name": "ipython",
    "version": 3
   },
   "file_extension": ".py",
   "mimetype": "text/x-python",
   "name": "python",
   "nbconvert_exporter": "python",
   "pygments_lexer": "ipython3",
   "version": "3.10.11"
  }
 },
 "nbformat": 4,
 "nbformat_minor": 5
}
