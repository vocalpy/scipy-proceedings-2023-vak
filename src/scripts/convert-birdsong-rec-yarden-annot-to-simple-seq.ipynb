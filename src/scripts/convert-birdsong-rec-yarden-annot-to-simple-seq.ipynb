{
 "cells": [
  {
   "cell_type": "code",
   "execution_count": 40,
   "id": "7f6be2b8-d2d1-441c-8e56-6d29b85dd6dc",
   "metadata": {},
   "outputs": [],
   "source": [
    "import pathlib\n",
    "\n",
    "import crowsetta\n",
    "import numpy as np"
   ]
  },
  {
   "cell_type": "code",
   "execution_count": 4,
   "id": "f8b763cc-2f9c-4b79-a677-13bc10bad293",
   "metadata": {},
   "outputs": [
    {
     "name": "stdout",
     "output_type": "stream",
     "text": [
      "/home/ildefonso/Documents/data/vocal/BirdsongRecognition\n"
     ]
    }
   ],
   "source": [
    "cd ~/Documents/data/vocal/BirdsongRecognition/"
   ]
  },
  {
   "cell_type": "code",
   "execution_count": 44,
   "id": "61716b11-ace6-4277-8095-6af6a4931e84",
   "metadata": {},
   "outputs": [
    {
     "data": {
      "text/plain": [
       "'/home/ildefonso/Documents/data/vocal/BirdsongRecognition'"
      ]
     },
     "execution_count": 44,
     "metadata": {},
     "output_type": "execute_result"
    }
   ],
   "source": [
    "pwd"
   ]
  },
  {
   "cell_type": "code",
   "execution_count": 8,
   "id": "88e71d81-9e10-4660-b75f-51b90f60abd8",
   "metadata": {},
   "outputs": [],
   "source": [
    "annot_root = pathlib.Path('~/Documents/data/vocal/BirdsongRecognition/annotation_tweetynet/').expanduser()"
   ]
  },
  {
   "cell_type": "code",
   "execution_count": 13,
   "id": "f94a9f10-3ac4-4484-a426-27f6c4efed03",
   "metadata": {},
   "outputs": [],
   "source": [
    "annot_mats = sorted(annot_root.glob('*annotation.mat'))"
   ]
  },
  {
   "cell_type": "code",
   "execution_count": 48,
   "id": "28b05837-ef46-433d-90f9-3b759f72a095",
   "metadata": {},
   "outputs": [],
   "source": [
    "scribe = crowsetta.Transcriber(format='yarden')\n",
    "\n",
    "for annot_mat in annot_mats:\n",
    "    bird_id = annot_mat.name.split('-')[1][:5]\n",
    "    dst = pathlib.Path(f'/home/ildefonso/Documents/data/vocal/BirdsongRecognition/{bird_id}')\n",
    "    assert dst.exists()\n",
    "    yarden = scribe.from_file(annot_mat)\n",
    "    annots = []\n",
    "    for filenum, (annot_arr, audio_path) in enumerate(zip(yarden.annotations, yarden.audio_paths)):\n",
    "        annot_tup = annot_arr.tolist()\n",
    "        onsets = annot_tup[1]\n",
    "        offsets = annot_tup[2]\n",
    "        labels = np.array([str(lbl) for lbl in annot_tup[3]])\n",
    "        simple_seq = crowsetta.formats.seq.SimpleSeq(onsets_s=onsets, offsets_s=offsets, labels=labels,\n",
    "                                                     annot_path=audio_path)\n",
    "        simple_seq.to_file(annot_path=dst / f'{filenum}.wav.csv')"
   ]
  },
  {
   "cell_type": "code",
   "execution_count": null,
   "id": "759c4a8d-021f-43f9-82e4-545d4ee0422c",
   "metadata": {},
   "outputs": [],
   "source": []
  }
 ],
 "metadata": {
  "kernelspec": {
   "display_name": "Python 3 (ipykernel)",
   "language": "python",
   "name": "python3"
  },
  "language_info": {
   "codemirror_mode": {
    "name": "ipython",
    "version": 3
   },
   "file_extension": ".py",
   "mimetype": "text/x-python",
   "name": "python",
   "nbconvert_exporter": "python",
   "pygments_lexer": "ipython3",
   "version": "3.10.11"
  }
 },
 "nbformat": 4,
 "nbformat_minor": 5
}
