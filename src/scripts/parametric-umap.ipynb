{
 "cells": [
  {
   "cell_type": "code",
   "execution_count": 1,
   "id": "a393c290-0094-4ad3-a699-7fe13b209939",
   "metadata": {},
   "outputs": [
    {
     "name": "stderr",
     "output_type": "stream",
     "text": [
      "/home/pimienta/Documents/repos/coding/vocalpy/vak-vocalpy/.venv/lib/python3.10/site-packages/tqdm/auto.py:21: TqdmWarning: IProgress not found. Please update jupyter and ipywidgets. See https://ipywidgets.readthedocs.io/en/stable/user_install.html\n",
      "  from .autonotebook import tqdm as notebook_tqdm\n"
     ]
    }
   ],
   "source": [
    "import numpy as np\n",
    "import torch"
   ]
  },
  {
   "cell_type": "code",
   "execution_count": 2,
   "id": "7cd59e31-9031-46f4-bbb3-d65508102f3e",
   "metadata": {},
   "outputs": [
    {
     "name": "stdout",
     "output_type": "stream",
     "text": [
      "/home/pimienta/Documents/repos/coding/vocalpy/vak-vocalpy\n"
     ]
    }
   ],
   "source": [
    "cd /home/pimienta/Documents/repos/coding/vocalpy/vak-vocalpy/"
   ]
  },
  {
   "cell_type": "code",
   "execution_count": 3,
   "id": "4306ce48-2aa3-44ba-936f-5b737f481aea",
   "metadata": {},
   "outputs": [],
   "source": [
    "def convert_distance_to_probability(distances, a=1.0, b=1.0):\n",
    "    \"\"\"Convert distances to probability.\n",
    "\n",
    "    Computes equation (2.6) of Sainburg McInnes Gentner 2021,\n",
    "    :math:`q_{ij} = (1 + a \\abs{z_i - z_j}^{2b} )^{-1}`.\n",
    "\n",
    "    The function uses torch.log1p to avoid floating point error:\n",
    "    ``-torch.log1p(a * distances ** (2 * b))``.\n",
    "    See https://en.wikipedia.org/wiki/Natural_logarithm#lnp1\n",
    "    \"\"\"\n",
    "    #return 1.0 / (1.0 + a * distances ** (2 * b))\n",
    "    return -torch.log1p(a * distances ** (2 * b))"
   ]
  },
  {
   "cell_type": "code",
   "execution_count": 4,
   "id": "d8ec9789-b9f4-4583-a6e1-bff1273ca9c9",
   "metadata": {},
   "outputs": [],
   "source": [
    "def compute_cross_entropy(\n",
    "    probabilities_graph, probabilities_distance, EPS=1e-4, repulsion_strength=1.0\n",
    "):\n",
    "    \"\"\"Computes cross entropy as used for UMAP cost function\"\"\"\n",
    "    # cross entropy\n",
    "    attraction_term = -probabilities_graph * torch.nn.functional.logsigmoid(\n",
    "        probabilities_distance\n",
    "    )\n",
    "    repulsion_term = (\n",
    "        -(1.0 - probabilities_graph) * (torch.nn.functional.logsigmoid(probabilities_distance) - probabilities_distance) * repulsion_strength\n",
    "    )\n",
    "\n",
    "    # balance the expected losses between attraction and repulsion\n",
    "    CE = attraction_term + repulsion_term\n",
    "    return attraction_term, repulsion_term, CE"
   ]
  },
  {
   "cell_type": "code",
   "execution_count": 5,
   "id": "3015e708-741d-4080-9379-87dfd9fb8efa",
   "metadata": {},
   "outputs": [],
   "source": [
    "def umap_loss(embedding_to, embedding_from, a, b, batch_size, negative_sample_rate=5):\n",
    "    \"\"\"UMAP loss function\n",
    "\n",
    "    Converts distances to probabilities,\n",
    "    and then computes cross entropy.\n",
    "    \"\"\"\n",
    "    # get negative samples by randomly shuffling the batch\n",
    "    embedding_neg_to = embedding_to.repeat(negative_sample_rate, 1)\n",
    "    repeat_neg = embedding_from.repeat(negative_sample_rate, 1)\n",
    "    embedding_neg_from = repeat_neg[torch.randperm(repeat_neg.shape[0])]\n",
    "    distance_embedding = torch.cat((\n",
    "        (embedding_to - embedding_from).norm(dim=1),\n",
    "        (embedding_neg_to - embedding_neg_from).norm(dim=1)\n",
    "    # ``to`` method in next line to avoid error `Expected all tensors to be on the same device`\n",
    "    ), dim=0).to(embedding_to.device)\n",
    "\n",
    "    # convert probabilities to distances\n",
    "    probabilities_distance = convert_distance_to_probability(\n",
    "        distance_embedding, a, b\n",
    "    )\n",
    "    # set true probabilities based on negative sampling\n",
    "    probabilities_graph = torch.cat(\n",
    "        (torch.ones(batch_size), torch.zeros(batch_size * negative_sample_rate)), dim=0,\n",
    "    # ``to`` method in next line to avoid error `Expected all tensors to be on the same device`\n",
    "    ).to(embedding_to.device)\n",
    "\n",
    "    # compute cross entropy\n",
    "    (attraction_loss, repellant_loss, ce_loss) = compute_cross_entropy(\n",
    "        probabilities_graph,\n",
    "        probabilities_distance,\n",
    "    )\n",
    "    loss = torch.mean(ce_loss)\n",
    "    return loss"
   ]
  },
  {
   "cell_type": "code",
   "execution_count": 6,
   "id": "c6f20366-deb1-4ac4-ba38-01e40d25f2db",
   "metadata": {},
   "outputs": [
    {
     "name": "stderr",
     "output_type": "stream",
     "text": [
      "/home/pimienta/Documents/repos/coding/vocalpy/vak-vocalpy/.venv/lib/python3.10/site-packages/umap/distances.py:1063: NumbaDeprecationWarning: \u001b[1mThe 'nopython' keyword argument was not supplied to the 'numba.jit' decorator. The implicit default value for this argument is currently False, but it will be changed to True in Numba 0.59.0. See https://numba.readthedocs.io/en/stable/reference/deprecation.html#deprecation-of-object-mode-fall-back-behaviour-when-using-jit for details.\u001b[0m\n",
      "  @numba.jit()\n",
      "/home/pimienta/Documents/repos/coding/vocalpy/vak-vocalpy/.venv/lib/python3.10/site-packages/umap/distances.py:1071: NumbaDeprecationWarning: \u001b[1mThe 'nopython' keyword argument was not supplied to the 'numba.jit' decorator. The implicit default value for this argument is currently False, but it will be changed to True in Numba 0.59.0. See https://numba.readthedocs.io/en/stable/reference/deprecation.html#deprecation-of-object-mode-fall-back-behaviour-when-using-jit for details.\u001b[0m\n",
      "  @numba.jit()\n",
      "/home/pimienta/Documents/repos/coding/vocalpy/vak-vocalpy/.venv/lib/python3.10/site-packages/umap/distances.py:1086: NumbaDeprecationWarning: \u001b[1mThe 'nopython' keyword argument was not supplied to the 'numba.jit' decorator. The implicit default value for this argument is currently False, but it will be changed to True in Numba 0.59.0. See https://numba.readthedocs.io/en/stable/reference/deprecation.html#deprecation-of-object-mode-fall-back-behaviour-when-using-jit for details.\u001b[0m\n",
      "  @numba.jit()\n",
      "/home/pimienta/Documents/repos/coding/vocalpy/vak-vocalpy/.venv/lib/python3.10/site-packages/umap/umap_.py:660: NumbaDeprecationWarning: \u001b[1mThe 'nopython' keyword argument was not supplied to the 'numba.jit' decorator. The implicit default value for this argument is currently False, but it will be changed to True in Numba 0.59.0. See https://numba.readthedocs.io/en/stable/reference/deprecation.html#deprecation-of-object-mode-fall-back-behaviour-when-using-jit for details.\u001b[0m\n",
      "  @numba.jit()\n"
     ]
    }
   ],
   "source": [
    "from pynndescent import NNDescent\n",
    "from sklearn.utils import check_random_state\n",
    "from umap.umap_ import fuzzy_simplicial_set\n",
    "\n",
    "\n",
    "def get_umap_graph(X, n_neighbors: int = 10, metric: str= \"cosine\", random_state: int | None = None, max_candidates=60, verbose=True):\n",
    "    random_state = check_random_state(None) if random_state == None else random_state\n",
    "\n",
    "    # number of trees in random projection forest\n",
    "    n_trees = 5 + int(round((X.shape[0]) ** 0.5 / 20.0))\n",
    "\n",
    "    # max number of nearest neighbor iters to perform\n",
    "    n_iters = max(5, int(round(np.log2(X.shape[0]))))\n",
    "    # distance metric\n",
    "\n",
    "    # get nearest neighbors\n",
    "    nnd = NNDescent(\n",
    "        X.reshape((len(X), np.product(np.shape(X)[1:]))),\n",
    "        n_neighbors=n_neighbors,\n",
    "        metric=metric,\n",
    "        n_trees=n_trees,\n",
    "        n_iters=n_iters,\n",
    "        max_candidates=max_candidates,\n",
    "        verbose=verbose\n",
    "    )\n",
    "\n",
    "    # get indices and distances\n",
    "    knn_indices, knn_dists = nnd.neighbor_graph\n",
    "\n",
    "    # build fuzzy_simplicial_set\n",
    "    umap_graph, sigmas, rhos = fuzzy_simplicial_set(\n",
    "        X=X,\n",
    "        n_neighbors=n_neighbors,\n",
    "        metric=metric,\n",
    "        random_state=random_state,\n",
    "        knn_indices=knn_indices,\n",
    "        knn_dists=knn_dists,\n",
    "    )\n",
    "\n",
    "    return umap_graph"
   ]
  },
  {
   "cell_type": "code",
   "execution_count": 7,
   "id": "cd7778b7-9af1-43fe-a94e-7e44b8231bc5",
   "metadata": {},
   "outputs": [],
   "source": [
    "import torch\n",
    "from torch.utils.data import Dataset, DataLoader\n",
    "import numpy as np\n",
    "\n",
    "# graph is scipy.sparse.csc_matrix? Guessing from .tocoo method call\n",
    "\n",
    "\n",
    "def get_graph_elements(graph, n_epochs):\n",
    "    \"\"\"Get graph elements for UMAP Dataset\"\"\"\n",
    "\n",
    "    graph = graph.tocoo()\n",
    "\n",
    "    # eliminate duplicate entries by summing them together\n",
    "    graph.sum_duplicates()\n",
    "\n",
    "    # number of vertices in dataset\n",
    "    n_vertices = graph.shape[1]\n",
    "\n",
    "    # get the number of epochs based on the size of the dataset\n",
    "    if n_epochs is None:\n",
    "        # For smaller datasets we can use more epochs\n",
    "        if graph.shape[0] <= 10000:\n",
    "            n_epochs = 500\n",
    "        else:\n",
    "            n_epochs = 200\n",
    "\n",
    "    # remove elements with very low probability\n",
    "    graph.data[graph.data < (graph.data.max() / float(n_epochs))] = 0.0\n",
    "    graph.eliminate_zeros()\n",
    "\n",
    "    # get epochs per sample based upon edge probability\n",
    "    epochs_per_sample = n_epochs * graph.data\n",
    "\n",
    "    head = graph.row\n",
    "    tail = graph.col\n",
    "    weight = graph.data\n",
    "\n",
    "    return graph, epochs_per_sample, head, tail, weight, n_vertices\n",
    "\n",
    "\n",
    "import pathlib\n",
    "\n",
    "import pandas as pd\n",
    "\n",
    "import vak.datasets\n",
    "\n",
    "\n",
    "class UMAPDataset(Dataset):\n",
    "    def __init__(self, data, graph, n_epochs=200, transform=None):\n",
    "        graph, epochs_per_sample, head, tail, weight, n_vertices = get_graph_elements(graph, n_epochs)\n",
    "\n",
    "        self.edges_to_exp, self.edges_from_exp = (\n",
    "        np.repeat(head, epochs_per_sample.astype(\"int\")),\n",
    "        np.repeat(tail, epochs_per_sample.astype(\"int\")),\n",
    "    )\n",
    "        shuffle_mask = np.random.permutation(np.arange(len(self.edges_to_exp)))\n",
    "        self.edges_to_exp = self.edges_to_exp[shuffle_mask].astype(np.int64)\n",
    "        self.edges_from_exp = self.edges_from_exp[shuffle_mask].astype(np.int64)\n",
    "        self.data = data\n",
    "        self.transform = transform\n",
    "        \n",
    "    def __len__(self):\n",
    "        return int(self.data.shape[0])\n",
    "    \n",
    "    def __getitem__(self, index):\n",
    "        edges_to_exp = self.data[self.edges_to_exp[index]]\n",
    "        edges_from_exp = self.data[self.edges_from_exp[index]]\n",
    "        if self.transform:\n",
    "            edges_to_exp = self.transform(edges_to_exp)\n",
    "            edges_from_exp = self.transform(edges_from_exp)\n",
    "        return (edges_to_exp, edges_from_exp)\n",
    "\n",
    "    @classmethod\n",
    "    def from_dataset_path(cls, \n",
    "                          dataset_path,\n",
    "                          split, \n",
    "                          n_neighbors=10,\n",
    "                          metric='Euclidean',\n",
    "                          random_state=None,\n",
    "                          n_epochs=200,\n",
    "                          transform=None):\n",
    "        dataset_path = pathlib.Path(dataset_path)\n",
    "        metadata = vak.datasets.dimensionality_reduction.Metadata.from_dataset_path(dataset_path)\n",
    "\n",
    "        dataset_csv_path = dataset_path / metadata.dataset_csv_filename\n",
    "        dataset_df = pd.read_csv(dataset_csv_path)\n",
    "        split_df = dataset_df[dataset_df.split == split]\n",
    "\n",
    "        split_path = dataset_path / split\n",
    "\n",
    "        data = np.stack(\n",
    "            [\n",
    "                np.load(dataset_path / spect_path) for spect_path in split_df.spect_path.values\n",
    "            ]\n",
    "        )\n",
    "        graph = get_umap_graph(data, n_neighbors=n_neighbors, metric=metric, random_state=random_state)\n",
    "\n",
    "        return cls(\n",
    "            data,\n",
    "            graph,\n",
    "            n_epochs,\n",
    "            transform=transform,\n",
    "        )"
   ]
  },
  {
   "cell_type": "code",
   "execution_count": 8,
   "id": "6ac09109-9438-41c9-b58e-ab1b017b5046",
   "metadata": {},
   "outputs": [],
   "source": [
    "import torch\n",
    "import torch.nn as nn\n",
    "\n",
    "\n",
    "class ConvEncoder(nn.Module):\n",
    "    def __init__(self,\n",
    "                 input_shape,\n",
    "                 n_components=2):\n",
    "        super().__init__()\n",
    "\n",
    "        self.num_input_channels = input_shape[-3]\n",
    "        num_freqbins = input_shape[-2]\n",
    "\n",
    "                     \n",
    "        self.conv = nn.Sequential(\n",
    "            nn.Conv2d(\n",
    "                in_channels=1, out_channels=64, kernel_size=3, stride=2, padding=1,\n",
    "            ),\n",
    "            nn.Conv2d(\n",
    "                in_channels=64, out_channels=128, kernel_size=3, stride=2, padding=1,\n",
    "            ),\n",
    "            nn.Flatten()\n",
    "        )\n",
    "        mock_input = torch.rand((1, *input_shape))\n",
    "        mock_conv_out = self.conv(mock_input)\n",
    "        in_features = mock_conv_out.shape[-1]\n",
    "\n",
    "        self.encoder = nn.Sequential(\n",
    "            nn.Linear(in_features, 512),\n",
    "            nn.ReLU(),\n",
    "            nn.Linear(512, 512),\n",
    "            nn.ReLU(),\n",
    "            nn.Linear(512, n_components)\n",
    "        )\n",
    "\n",
    "    def forward(self, x):\n",
    "        x = self.conv(x)\n",
    "        x = self.encoder(x)\n",
    "        return x"
   ]
  },
  {
   "cell_type": "code",
   "execution_count": 9,
   "id": "730f7a40-21f8-4bfb-84b4-78a4d3ad1725",
   "metadata": {},
   "outputs": [],
   "source": [
    "import pytorch_lightning as pl\n",
    "from torch.utils.data import DataLoader\n",
    "from torch.nn.functional import mse_loss\n",
    "\n",
    "from umap.umap_ import find_ab_params\n",
    "\n",
    "\n",
    "class ParametricUMAPModel(pl.LightningModule):\n",
    "    def __init__(\n",
    "        self,\n",
    "        lr: float,\n",
    "        encoder: nn.Module,\n",
    "        decoder: nn.Module | None = None,\n",
    "        beta: float = 1.0,\n",
    "        min_dist: float = 0.1,\n",
    "    ):DatamoduleDatamodule\n",
    "        super().__init__()\n",
    "        self.lr = lr\n",
    "        self.encoder = encoder\n",
    "        self.decoder = decoder\n",
    "        self.beta = beta # weight for reconstruction loss\n",
    "        self._a, self._b = find_ab_params(1.0, min_dist)\n",
    "\n",
    "    def configure_optimizers(self):\n",
    "        return torch.optim.AdamW(self.parameters(), lr=self.lr)\n",
    "\n",
    "    def training_step(self, batch, batch_idx):\n",
    "        (edges_to_exp, edges_from_exp) = batch\n",
    "        embedding_to, embedding_from = self.encoder(edges_to_exp), self.encoder(edges_from_exp)\n",
    "        encoder_loss = umap_loss(embedding_to, embedding_from, self._a, self._b, edges_to_exp.shape[0], negative_sample_rate=5)\n",
    "        self.log(\"umap_loss\", encoder_loss)\n",
    "\n",
    "        if self.decoder != None:\n",
    "            recon = self.decoder(embedding_to)\n",
    "            recon_loss = mse_loss(recon, edges_to_exp)\n",
    "            self.log(\"recon_loss\", recon_loss)\n",
    "            return encoder_loss + self.beta * recon_loss\n",
    "        else:\n",
    "            return encoder_loss"
   ]
  },
  {
   "cell_type": "code",
   "execution_count": 10,
   "id": "c0c622be-ab86-45e1-b819-26f8cc4feec8",
   "metadata": {},
   "outputs": [],
   "source": []
  },
  {
   "cell_type": "code",
   "execution_count": 11,
   "id": "743aceba-1eb6-45bb-ba23-d9c6b506de28",
   "metadata": {},
   "outputs": [],
   "source": [
    "class ParametricUMAP:\n",
    "    def __init__(\n",
    "        self,\n",
    "        encoder: torch.nn.Module,\n",
    "        decoder: torch.nn.Module | None = None,\n",
    "        n_neighbors: int = 10,\n",
    "        min_dist: float = 0.1,\n",
    "        metric: str = \"euclidean\",\n",
    "        lr: float = 1e-3,\n",
    "        num_epochs: int = 30,\n",
    "        batch_size: int = 64,\n",
    "        num_workers: int = 16,\n",
    "        random_state: int | None = None,\n",
    "    ):\n",
    "        self.encoder = encoder\n",
    "        self.decoder = decoder\n",
    "        self.n_neighbors = n_neighbors\n",
    "        self.min_dist = min_dist\n",
    "        self.metric = metric\n",
    "\n",
    "        self.lr = lr\n",
    "        self.num_epochs = num_epochs\n",
    "\n",
    "        self.batch_size = batch_size\n",
    "        self.num_workers = num_workers\n",
    "        self.random_state = random_state\n",
    "\n",
    "        self.model = ParametricUMAPModel(self.lr, self.encoder, min_dist=self.min_dist)\n",
    "\n",
    "    def fit(self, dataset_path, accelerator='gpu', devices=1, transform=None):\n",
    "        trainer = pl.Trainer(accelerator=accelerator, devices=devices, max_epochs=self.num_epochs)\n",
    "        dataset = UMAPDataset.from_dataset_path(dataset_path, 'train', self.n_neighbors, self.metric, \n",
    "                                                self.random_state, self.num_epochs, transform)\n",
    "        trainer.fit(\n",
    "            model=self.model,\n",
    "            datamodule=Datamodule(dataset, self.batch_size, self.num_workers)\n",
    "        )\n",
    "\n",
    "    @torch.no_grad()\n",
    "    def transform(self, X):\n",
    "        self.embedding_ = self.model.encoder(X).detach().cpu().numpy()\n",
    "        return self.embedding_\n",
    "\n",
    "    @torch.no_grad()\n",
    "    def inverse_transform(self, Z):\n",
    "        return self.model.decoder(Z).detach().cpu().numpy()"
   ]
  },
  {
   "cell_type": "code",
   "execution_count": 12,
   "id": "16609e02-b44d-4b15-ae5b-5aa9c295a534",
   "metadata": {},
   "outputs": [],
   "source": [
    "# import torchvision\n",
    "# from torchvision.transforms import transforms\n",
    "\n",
    "# train_dataset = torchvision.datasets.MNIST(root='./data', train=True, transform=transforms.ToTensor(), download=True)\n",
    "# train_tensor = torch.stack([example[0] for example in train_dataset])[:, 0][:, None, ...]\n",
    "# labels = [str(example[1]) for example in train_dataset]\n",
    "# X = train_tensor"
   ]
  },
  {
   "cell_type": "code",
   "execution_count": 12,
   "id": "e07e6eb9-f291-480a-afc5-3b9c52dce0b9",
   "metadata": {},
   "outputs": [],
   "source": [
    "import torchvision\n",
    "import vak.transforms\n",
    "\n",
    "transform = torchvision.transforms.Compose(\n",
    "        [\n",
    "            vak.transforms.ToFloatTensor(),\n",
    "            vak.transforms.AddChannel(),\n",
    "            torchvision.transforms.Resize((256, 128))\n",
    "        ]\n",
    ")"
   ]
  },
  {
   "cell_type": "code",
   "execution_count": 13,
   "id": "63c9c43c-ec06-4adb-b6be-81edab3f3f9f",
   "metadata": {},
   "outputs": [
    {
     "name": "stderr",
     "output_type": "stream",
     "text": [
      "GPU available: True (cuda), used: True\n",
      "TPU available: False, using: 0 TPU cores\n",
      "IPU available: False, using: 0 IPUs\n",
      "HPU available: False, using: 0 HPUs\n"
     ]
    },
    {
     "name": "stdout",
     "output_type": "stream",
     "text": [
      "Sun Jul 16 07:59:30 2023 Building RP forest with 6 trees\n",
      "Sun Jul 16 07:59:34 2023 NN descent for 9 iterations\n",
      "\t 1  /  9\n",
      "\t 2  /  9\n",
      "\t 3  /  9\n",
      "\tStopping threshold met -- exiting after 3 iterations\n"
     ]
    },
    {
     "name": "stderr",
     "output_type": "stream",
     "text": [
      "LOCAL_RANK: 0 - CUDA_VISIBLE_DEVICES: [0]\n",
      "\n",
      "  | Name    | Type        | Params\n",
      "----------------------------------------\n",
      "0 | encoder | ConvEncoder | 134 M \n",
      "----------------------------------------\n",
      "134 M     Trainable params\n",
      "0         Non-trainable params\n",
      "134 M     Total params\n",
      "538.226   Total estimated model params size (MB)\n",
      "/home/pimienta/Documents/repos/coding/vocalpy/vak-vocalpy/.venv/lib/python3.10/site-packages/pytorch_lightning/trainer/trainer.py:1609: PossibleUserWarning: The number of training batches (7) is smaller than the logging interval Trainer(log_every_n_steps=50). Set a lower value for log_every_n_steps if you want to see logs for the training epoch.\n",
      "  rank_zero_warn(\n"
     ]
    },
    {
     "name": "stdout",
     "output_type": "stream",
     "text": [
      "Epoch 9: 100%|██████████████████████████████████████████████████████████████████████████████████████████████████████████████████████| 7/7 [00:01<00:00,  5.52it/s, loss=0.193, v_num=3]"
     ]
    },
    {
     "name": "stderr",
     "output_type": "stream",
     "text": [
      "`Trainer.fit` stopped: `max_epochs=10` reached.\n"
     ]
    },
    {
     "name": "stdout",
     "output_type": "stream",
     "text": [
      "Epoch 9: 100%|██████████████████████████████████████████████████████████████████████████████████████████████████████████████████████| 7/7 [00:04<00:00,  1.48it/s, loss=0.193, v_num=3]\n"
     ]
    }
   ],
   "source": [
    "pumap = ParametricUMAP(ConvEncoder((1, 256, 128), 2), lr=1e-3, num_epochs=10, num_workers=8)\n",
    "pumap.fit(dataset_path='tests/data_for_tests/generated/prep/train/audio_cbin_annot_notmat/pumap/032312-vak-dimensionality-reduction-dataset-generated-230712_065612',\n",
    "          transform=transform)"
   ]
  },
  {
   "cell_type": "code",
   "execution_count": 14,
   "id": "bc364ead-78a1-40a8-a5e2-92fb03e51ebc",
   "metadata": {},
   "outputs": [],
   "source": [
    "dataset_path = pathlib.Path('tests/data_for_tests/generated/prep/train/audio_cbin_annot_notmat/pumap/032312-vak-dimensionality-reduction-dataset-generated-230712_065612')\n",
    "metadata = vak.datasets.dimensionality_reduction.Metadata.from_dataset_path(dataset_path)\n",
    "\n",
    "dataset_csv_path = dataset_path / metadata.dataset_csv_filename\n",
    "dataset_df = pd.read_csv(dataset_csv_path)\n",
    "split_df = dataset_df[dataset_df.split == 'train']\n",
    "\n",
    "split_path = dataset_path / 'val'\n",
    "\n",
    "data = torch.stack(\n",
    "    [\n",
    "        transform(np.load(dataset_path / spect_path)) for spect_path in split_df.spect_path.values\n",
    "    ]\n",
    ")"
   ]
  },
  {
   "cell_type": "code",
   "execution_count": 15,
   "id": "58c20beb-97e3-4017-8cb8-e12679649999",
   "metadata": {},
   "outputs": [],
   "source": [
    "out = pumap.transform(data)"
   ]
  },
  {
   "cell_type": "code",
   "execution_count": 16,
   "id": "cc0c0f07-4131-45fb-8bcf-0bcfba74fbd8",
   "metadata": {},
   "outputs": [],
   "source": [
    "labels = split_df.label.values"
   ]
  },
  {
   "cell_type": "code",
   "execution_count": 17,
   "id": "c78ac4f8-caa8-4775-ba82-68afcfb14fce",
   "metadata": {},
   "outputs": [],
   "source": [
    "import seaborn as sns"
   ]
  },
  {
   "cell_type": "code",
   "execution_count": 18,
   "id": "a6fcdd71-b61e-49a5-94c6-f3c92546492e",
   "metadata": {},
   "outputs": [],
   "source": [
    "palette = dict(\n",
    "    zip(np.unique(labels), sns.color_palette('tab10', len(np.unique(labels))))\n",
    ")"
   ]
  },
  {
   "cell_type": "code",
   "execution_count": 19,
   "id": "ddb21b9c-a294-4f7a-a1d1-47a593fd01cf",
   "metadata": {},
   "outputs": [],
   "source": [
    "records = []\n",
    "for x, y, lbl in zip(out[:,0], out[:,1], split_df.label.values):\n",
    "    records.append(\n",
    "        {'x': x, 'y': y, 'Label': lbl}\n",
    "    )\n",
    "plot_df = pd.DataFrame.from_records(records)"
   ]
  },
  {
   "cell_type": "code",
   "execution_count": 20,
   "id": "78ebc7ec-2ec0-4342-b6f4-7e143def6540",
   "metadata": {},
   "outputs": [],
   "source": [
    "colors = [palette[label] for label in labels]"
   ]
  },
  {
   "cell_type": "code",
   "execution_count": 21,
   "id": "6302ae55-48ce-4dd7-b8d8-52dfc5ee4538",
   "metadata": {},
   "outputs": [],
   "source": [
    "sns.set()"
   ]
  },
  {
   "cell_type": "code",
   "execution_count": 22,
   "id": "67e67258-eb67-4ed6-8363-8fcb467a7093",
   "metadata": {},
   "outputs": [],
   "source": [
    "import matplotlib.pyplot as plt"
   ]
  },
  {
   "cell_type": "code",
   "execution_count": 23,
   "id": "d3e37ccb-302c-4f9f-ba6d-df397e10f114",
   "metadata": {},
   "outputs": [
    {
     "data": {
      "image/png": "[encoded data removed]",
      "text/plain": [
       "<Figure size 640x480 with 1 Axes>"
      ]
     },
     "metadata": {},
     "output_type": "display_data"
    }
   ],
   "source": [
    "g = sns.scatterplot(\n",
    "    plot_df,\n",
    "    x='x',\n",
    "    y='y',\n",
    "    palette=palette,\n",
    "    hue='Label'\n",
    ")\n",
    "\n",
    "sns.move_legend(g, loc=[1.01, 0.25])\n",
    "g.axes.set_xlabel('')\n",
    "g.axes.set_ylabel('')\n",
    "g.axes.set_xticks([])\n",
    "g.axes.set_yticks([])\n",
    "\n",
    "plt.savefig('../scipy_proceedings/papers/david_nicholson/parametric-umap.png', \n",
    "            bbox_inches='tight')"
   ]
  },
  {
   "cell_type": "code",
   "execution_count": 96,
   "id": "39b25461-b1e7-4e4e-859f-072018c2b035",
   "metadata": {},
   "outputs": [
    {
     "data": {
      "text/plain": [
       "<matplotlib.collections.PathCollection at 0x7f1e7787d1e0>"
      ]
     },
     "execution_count": 96,
     "metadata": {},
     "output_type": "execute_result"
    },
    {
     "data": {
      "image/png": "[encoded data removed]",
      "text/plain": [
       "<Figure size 640x480 with 1 Axes>"
      ]
     },
     "metadata": {},
     "output_type": "display_data"
    }
   ],
   "source": [
    "import matplotlib.pyplot as plt\n",
    "\n",
    "fig, ax = plt.subplots()\n",
    "\n",
    "ax.scatter(out[:, 0], out[:, 1], c=colors)\n"
   ]
  },
  {
   "cell_type": "code",
   "execution_count": null,
   "id": "3387591f-289e-44fa-98da-9892d21ccd31",
   "metadata": {},
   "outputs": [],
   "source": []
  }
 ],
 "metadata": {
  "kernelspec": {
   "display_name": "Python 3 (ipykernel)",
   "language": "python",
   "name": "python3"
  },
  "language_info": {
   "codemirror_mode": {
    "name": "ipython",
    "version": 3
   },
   "file_extension": ".py",
   "mimetype": "text/x-python",
   "name": "python",
   "nbconvert_exporter": "python",
   "pygments_lexer": "ipython3",
   "version": "3.10.12"
  }
 },
 "nbformat": 4,
 "nbformat_minor": 5
}
